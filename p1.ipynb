{
  "nbformat": 4,
  "nbformat_minor": 0,
  "metadata": {
    "colab": {
      "name": "Untitled1.ipynb",
      "provenance": [],
      "authorship_tag": "ABX9TyORE5xj/8Gb/mhE0NDswX89",
      "include_colab_link": true
    },
    "kernelspec": {
      "name": "python3",
      "display_name": "Python 3"
    }
  },
  "cells": [
    {
      "cell_type": "markdown",
      "metadata": {
        "id": "view-in-github",
        "colab_type": "text"
      },
      "source": [
        "<a href=\"https://colab.research.google.com/github/qw-erty/python-basics/blob/main/p1.ipynb\" target=\"_parent\"><img src=\"https://colab.research.google.com/assets/colab-badge.svg\" alt=\"Open In Colab\"/></a>"
      ]
    },
    {
      "cell_type": "markdown",
      "metadata": {
        "id": "S53OHBuOcCgu"
      },
      "source": [
        "1) Find the Area and circumference of a circle (Assume radius as per your choice)\r\n"
      ]
    },
    {
      "cell_type": "code",
      "metadata": {
        "colab": {
          "base_uri": "https://localhost:8080/"
        },
        "id": "tTjFXdbga9GS",
        "outputId": "af0ad0cb-5784-4f85-fd47-a2577451d03f"
      },
      "source": [
        "from math import *\r\n",
        "radius=5\r\n",
        "area=pi*radius*radius\r\n",
        "perimeter=2*pi*radius\r\n",
        "print (area,perimeter)\r\n",
        "#print (perimeter)\r\n"
      ],
      "execution_count": 4,
      "outputs": [
        {
          "output_type": "stream",
          "text": [
            "78.53981633974483 31.41592653589793\n"
          ],
          "name": "stdout"
        }
      ]
    },
    {
      "cell_type": "markdown",
      "metadata": {
        "id": "b7ps0CgzcQF5"
      },
      "source": [
        "2) Find the Sum of N natural numbers (where N is your input )\r\n"
      ]
    },
    {
      "cell_type": "code",
      "metadata": {
        "colab": {
          "base_uri": "https://localhost:8080/"
        },
        "id": "NCmT3nnba_cx",
        "outputId": "28e9ffe7-7cbf-4212-a36d-cfdf102453f5"
      },
      "source": [
        "print(\"enter a number till which you want the sum\")\r\n",
        "n=int(input())\r\n",
        "sum=n*(n+1)/2\r\n",
        "print(sum)"
      ],
      "execution_count": 7,
      "outputs": [
        {
          "output_type": "stream",
          "text": [
            "enter a number till which you want the sum\n",
            "10\n",
            "55.0\n"
          ],
          "name": "stdout"
        }
      ]
    },
    {
      "cell_type": "markdown",
      "metadata": {
        "id": "UQIZ5I-1fTrU"
      },
      "source": [
        "Check if the input number is prime or not "
      ]
    },
    {
      "cell_type": "code",
      "metadata": {
        "colab": {
          "base_uri": "https://localhost:8080/"
        },
        "id": "pJ0upLAPfLpK",
        "outputId": "6223d01c-0295-421c-ce62-c881ca78388e"
      },
      "source": [
        "\r\n",
        "found=0\r\n",
        "print(\"enter a number you want to check for prime\")\r\n",
        "x=int(input())\r\n",
        "for i in range(2,int(x/2)):\r\n",
        "   if x%i==0 :\r\n",
        "        print(\"not a prime\")\r\n",
        "        found = 1\r\n",
        "\r\n",
        "if found==0 :  \r\n",
        "    print(\"prime number\")\r\n"
      ],
      "execution_count": 18,
      "outputs": [
        {
          "output_type": "stream",
          "text": [
            "enter a number you want to check for prime\n",
            "8\n",
            "not a prime\n"
          ],
          "name": "stdout"
        }
      ]
    },
    {
      "cell_type": "markdown",
      "metadata": {
        "id": "24F1A8vsnBPk"
      },
      "source": [
        "4) Check If a number is Palindrome or not ( reads the same backward as forward)\r\n",
        "\r\n"
      ]
    },
    {
      "cell_type": "code",
      "metadata": {
        "colab": {
          "base_uri": "https://localhost:8080/"
        },
        "id": "dxb3pqjZc3sN",
        "outputId": "ac281fd3-33a2-436a-e7ea-cd56c9c35373"
      },
      "source": [
        "len=0\r\n",
        "c=0\r\n",
        "print(\"enter a number to check for palidrome\")\r\n",
        "x=int(input())\r\n",
        "temp=x\r\n",
        "origin=x\r\n",
        "while x!=0 : \r\n",
        "  x=(x-(x%10))/10\r\n",
        "  len=len+1\r\n",
        "for i in range(len,0,-1):\r\n",
        "  b=(temp%10)\r\n",
        "  for j in range(i-1):\r\n",
        "    b=b*10\r\n",
        "  c=c+b  \r\n",
        "  temp=(temp-(temp%10))/10\r\n",
        "  \r\n",
        "print (\"reverse of the number is \",c)\r\n",
        "if c==origin :\r\n",
        "  print(\"its a plaidrome number\")\r\n",
        "else :\r\n",
        "  print(\"not a palidrome\")\r\n",
        "\r\n",
        "\r\n",
        "\r\n",
        "\r\n"
      ],
      "execution_count": 31,
      "outputs": [
        {
          "output_type": "stream",
          "text": [
            "enter a number to check for palidrome\n",
            "1111\n",
            "reverse of the number is  1111.0\n",
            "its a plaidrome number\n"
          ],
          "name": "stdout"
        }
      ]
    },
    {
      "cell_type": "markdown",
      "metadata": {
        "id": "bCkGdKdodaQA"
      },
      "source": [
        "5) Write a code to find the Nth Fibonacci number \r\n",
        "\r\n"
      ]
    },
    {
      "cell_type": "code",
      "metadata": {
        "colab": {
          "base_uri": "https://localhost:8080/"
        },
        "id": "EAs1xw2rddt9",
        "outputId": "5e2ae786-e7fa-42c0-976b-c7601e6cf621"
      },
      "source": [
        "print (\"enter the number of the term you want to find in fibonacci series\")\r\n",
        "n=int(input())\r\n",
        "if n==2 or n==3 :\r\n",
        "  print (1)\r\n",
        "elif n>3 :\r\n",
        "  print(x-2)\r\n",
        "elif n==1 :\r\n",
        "  print(0)\r\n"
      ],
      "execution_count": 35,
      "outputs": [
        {
          "output_type": "stream",
          "text": [
            "enter the number of the term you want to find in fibonacci series\n",
            "5\n",
            "3\n"
          ],
          "name": "stdout"
        }
      ]
    },
    {
      "cell_type": "markdown",
      "metadata": {
        "id": "CWfIt2t-gR7k"
      },
      "source": [
        "6) Write a code to Reverse the number input by user"
      ]
    },
    {
      "cell_type": "code",
      "metadata": {
        "colab": {
          "base_uri": "https://localhost:8080/"
        },
        "id": "L4E_Pru5gTSG",
        "outputId": "6ee5f814-3244-44c0-8da9-b8d43acd1795"
      },
      "source": [
        "len=0\r\n",
        "c=0\r\n",
        "print(\"enter a number to reverse\")\r\n",
        "x=int(input())\r\n",
        "temp=x\r\n",
        "origin=x\r\n",
        "while x!=0 : \r\n",
        "  x=(x-(x%10))/10\r\n",
        "  len=len+1\r\n",
        "for i in range(len,0,-1):\r\n",
        "  b=(temp%10)\r\n",
        "  for j in range(i-1):\r\n",
        "    b=b*10\r\n",
        "  c=c+b  \r\n",
        "  temp=(temp-(temp%10))/10\r\n",
        "  \r\n",
        "print (\"reverse of the number is \",c)"
      ],
      "execution_count": 36,
      "outputs": [
        {
          "output_type": "stream",
          "text": [
            "enter a number to reverse\n",
            "1234\n",
            "reverse of the number is  4321.0\n"
          ],
          "name": "stdout"
        }
      ]
    }
  ]
}